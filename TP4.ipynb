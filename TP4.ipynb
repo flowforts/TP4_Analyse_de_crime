{
 "cells": [
  {
   "cell_type": "code",
   "execution_count": 6,
   "id": "5d72b498",
   "metadata": {},
   "outputs": [],
   "source": [
    "import pandas as pd\n",
    "import csv\n",
    "import matplotlib.pyplot as plt\n",
    "import numpy as np"
   ]
  },
  {
   "cell_type": "code",
   "execution_count": 7,
   "id": "02cbc6cc",
   "metadata": {},
   "outputs": [
    {
     "data": {
      "text/plain": [
       "'/Users/Louis-Philip/PycharmProject/TP4'"
      ]
     },
     "execution_count": 7,
     "metadata": {},
     "output_type": "execute_result"
    }
   ],
   "source": [
    "pwd"
   ]
  },
  {
   "cell_type": "markdown",
   "id": "3c3d773c",
   "metadata": {},
   "source": [
    "## Création du tableau contenant les données\n"
   ]
  },
  {
   "cell_type": "code",
   "execution_count": 8,
   "id": "2dbf8ad0",
   "metadata": {
    "scrolled": true
   },
   "outputs": [
    {
     "data": {
      "text/html": [
       "<div>\n",
       "<style scoped>\n",
       "    .dataframe tbody tr th:only-of-type {\n",
       "        vertical-align: middle;\n",
       "    }\n",
       "\n",
       "    .dataframe tbody tr th {\n",
       "        vertical-align: top;\n",
       "    }\n",
       "\n",
       "    .dataframe thead th {\n",
       "        text-align: right;\n",
       "    }\n",
       "</style>\n",
       "<table border=\"1\" class=\"dataframe\">\n",
       "  <thead>\n",
       "    <tr style=\"text-align: right;\">\n",
       "      <th></th>\n",
       "      <th>CATEGORIE</th>\n",
       "      <th>DATE</th>\n",
       "      <th>QUART</th>\n",
       "      <th>PDQ</th>\n",
       "      <th>X</th>\n",
       "      <th>Y</th>\n",
       "      <th>LONGITUDE</th>\n",
       "      <th>LATITUDE</th>\n",
       "    </tr>\n",
       "  </thead>\n",
       "  <tbody>\n",
       "    <tr>\n",
       "      <th>0</th>\n",
       "      <td>Vol de vehicule a moteur</td>\n",
       "      <td>2018-09-13</td>\n",
       "      <td>jour</td>\n",
       "      <td>30.0</td>\n",
       "      <td>294904.159001</td>\n",
       "      <td>5.047549e+06</td>\n",
       "      <td>-73.626778</td>\n",
       "      <td>45.567780</td>\n",
       "    </tr>\n",
       "    <tr>\n",
       "      <th>1</th>\n",
       "      <td>Vol de vehicule a moteur</td>\n",
       "      <td>2018-04-30</td>\n",
       "      <td>jour</td>\n",
       "      <td>30.0</td>\n",
       "      <td>294904.159001</td>\n",
       "      <td>5.047549e+06</td>\n",
       "      <td>-73.626778</td>\n",
       "      <td>45.567780</td>\n",
       "    </tr>\n",
       "    <tr>\n",
       "      <th>2</th>\n",
       "      <td>Vol de vehicule a moteur</td>\n",
       "      <td>2018-09-01</td>\n",
       "      <td>nuit</td>\n",
       "      <td>7.0</td>\n",
       "      <td>290274.565000</td>\n",
       "      <td>5.042150e+06</td>\n",
       "      <td>-73.685928</td>\n",
       "      <td>45.519122</td>\n",
       "    </tr>\n",
       "    <tr>\n",
       "      <th>3</th>\n",
       "      <td>Mefait</td>\n",
       "      <td>2017-07-21</td>\n",
       "      <td>jour</td>\n",
       "      <td>21.0</td>\n",
       "      <td>0.000000</td>\n",
       "      <td>0.000000e+00</td>\n",
       "      <td>1.000000</td>\n",
       "      <td>1.000000</td>\n",
       "    </tr>\n",
       "    <tr>\n",
       "      <th>4</th>\n",
       "      <td>Mefait</td>\n",
       "      <td>2017-07-29</td>\n",
       "      <td>jour</td>\n",
       "      <td>12.0</td>\n",
       "      <td>0.000000</td>\n",
       "      <td>0.000000e+00</td>\n",
       "      <td>1.000000</td>\n",
       "      <td>1.000000</td>\n",
       "    </tr>\n",
       "  </tbody>\n",
       "</table>\n",
       "</div>"
      ],
      "text/plain": [
       "                  CATEGORIE       DATE QUART   PDQ              X  \\\n",
       "0  Vol de vehicule a moteur 2018-09-13  jour  30.0  294904.159001   \n",
       "1  Vol de vehicule a moteur 2018-04-30  jour  30.0  294904.159001   \n",
       "2  Vol de vehicule a moteur 2018-09-01  nuit   7.0  290274.565000   \n",
       "3                    Mefait 2017-07-21  jour  21.0       0.000000   \n",
       "4                    Mefait 2017-07-29  jour  12.0       0.000000   \n",
       "\n",
       "              Y  LONGITUDE   LATITUDE  \n",
       "0  5.047549e+06 -73.626778  45.567780  \n",
       "1  5.047549e+06 -73.626778  45.567780  \n",
       "2  5.042150e+06 -73.685928  45.519122  \n",
       "3  0.000000e+00   1.000000   1.000000  \n",
       "4  0.000000e+00   1.000000   1.000000  "
      ]
     },
     "execution_count": 8,
     "metadata": {},
     "output_type": "execute_result"
    }
   ],
   "source": [
    "df=pd.read_csv(\"/Users/Louis-Philip/PycharmProject/TP4/CrimeCitoyen.csv\", delimiter=\",\", parse_dates=[\"DATE\"])\n",
    "df['CATEGORIE'] = df['CATEGORIE'].str.replace(u\"�\", \"e\")\n",
    "df['CATEGORIE'] = df['CATEGORIE'].str.replace(u\"vehicule e moteur\", \"vehicule a moteur\")\n",
    "df.head()"
   ]
  },
  {
   "cell_type": "markdown",
   "id": "d0ac0b83",
   "metadata": {},
   "source": [
    "## Création de deux nouvelles colonnes contenant le mois du crime et l'année du crime"
   ]
  },
  {
   "cell_type": "code",
   "execution_count": 9,
   "id": "1fec3c40",
   "metadata": {
    "scrolled": true
   },
   "outputs": [
    {
     "data": {
      "text/html": [
       "<div>\n",
       "<style scoped>\n",
       "    .dataframe tbody tr th:only-of-type {\n",
       "        vertical-align: middle;\n",
       "    }\n",
       "\n",
       "    .dataframe tbody tr th {\n",
       "        vertical-align: top;\n",
       "    }\n",
       "\n",
       "    .dataframe thead th {\n",
       "        text-align: right;\n",
       "    }\n",
       "</style>\n",
       "<table border=\"1\" class=\"dataframe\">\n",
       "  <thead>\n",
       "    <tr style=\"text-align: right;\">\n",
       "      <th></th>\n",
       "      <th>CATEGORIE</th>\n",
       "      <th>DATE</th>\n",
       "      <th>QUART</th>\n",
       "      <th>PDQ</th>\n",
       "      <th>X</th>\n",
       "      <th>Y</th>\n",
       "      <th>LONGITUDE</th>\n",
       "      <th>LATITUDE</th>\n",
       "      <th>YEAR</th>\n",
       "      <th>MONTH</th>\n",
       "    </tr>\n",
       "  </thead>\n",
       "  <tbody>\n",
       "    <tr>\n",
       "      <th>0</th>\n",
       "      <td>Vol de vehicule a moteur</td>\n",
       "      <td>2018-09-13</td>\n",
       "      <td>jour</td>\n",
       "      <td>30.0</td>\n",
       "      <td>294904.159001</td>\n",
       "      <td>5.047549e+06</td>\n",
       "      <td>-73.626778</td>\n",
       "      <td>45.567780</td>\n",
       "      <td>2018</td>\n",
       "      <td>9</td>\n",
       "    </tr>\n",
       "    <tr>\n",
       "      <th>1</th>\n",
       "      <td>Vol de vehicule a moteur</td>\n",
       "      <td>2018-04-30</td>\n",
       "      <td>jour</td>\n",
       "      <td>30.0</td>\n",
       "      <td>294904.159001</td>\n",
       "      <td>5.047549e+06</td>\n",
       "      <td>-73.626778</td>\n",
       "      <td>45.567780</td>\n",
       "      <td>2018</td>\n",
       "      <td>4</td>\n",
       "    </tr>\n",
       "    <tr>\n",
       "      <th>2</th>\n",
       "      <td>Vol de vehicule a moteur</td>\n",
       "      <td>2018-09-01</td>\n",
       "      <td>nuit</td>\n",
       "      <td>7.0</td>\n",
       "      <td>290274.565000</td>\n",
       "      <td>5.042150e+06</td>\n",
       "      <td>-73.685928</td>\n",
       "      <td>45.519122</td>\n",
       "      <td>2018</td>\n",
       "      <td>9</td>\n",
       "    </tr>\n",
       "    <tr>\n",
       "      <th>3</th>\n",
       "      <td>Mefait</td>\n",
       "      <td>2017-07-21</td>\n",
       "      <td>jour</td>\n",
       "      <td>21.0</td>\n",
       "      <td>0.000000</td>\n",
       "      <td>0.000000e+00</td>\n",
       "      <td>1.000000</td>\n",
       "      <td>1.000000</td>\n",
       "      <td>2017</td>\n",
       "      <td>7</td>\n",
       "    </tr>\n",
       "    <tr>\n",
       "      <th>4</th>\n",
       "      <td>Mefait</td>\n",
       "      <td>2017-07-29</td>\n",
       "      <td>jour</td>\n",
       "      <td>12.0</td>\n",
       "      <td>0.000000</td>\n",
       "      <td>0.000000e+00</td>\n",
       "      <td>1.000000</td>\n",
       "      <td>1.000000</td>\n",
       "      <td>2017</td>\n",
       "      <td>7</td>\n",
       "    </tr>\n",
       "  </tbody>\n",
       "</table>\n",
       "</div>"
      ],
      "text/plain": [
       "                  CATEGORIE       DATE QUART   PDQ              X  \\\n",
       "0  Vol de vehicule a moteur 2018-09-13  jour  30.0  294904.159001   \n",
       "1  Vol de vehicule a moteur 2018-04-30  jour  30.0  294904.159001   \n",
       "2  Vol de vehicule a moteur 2018-09-01  nuit   7.0  290274.565000   \n",
       "3                    Mefait 2017-07-21  jour  21.0       0.000000   \n",
       "4                    Mefait 2017-07-29  jour  12.0       0.000000   \n",
       "\n",
       "              Y  LONGITUDE   LATITUDE  YEAR  MONTH  \n",
       "0  5.047549e+06 -73.626778  45.567780  2018      9  \n",
       "1  5.047549e+06 -73.626778  45.567780  2018      4  \n",
       "2  5.042150e+06 -73.685928  45.519122  2018      9  \n",
       "3  0.000000e+00   1.000000   1.000000  2017      7  \n",
       "4  0.000000e+00   1.000000   1.000000  2017      7  "
      ]
     },
     "execution_count": 9,
     "metadata": {},
     "output_type": "execute_result"
    }
   ],
   "source": [
    "df['YEAR'] = pd.DatetimeIndex(df['DATE']).year\n",
    "df['MONTH'] = pd.DatetimeIndex(df['DATE']).month\n",
    "df.head()"
   ]
  },
  {
   "cell_type": "markdown",
   "id": "359d3bb9",
   "metadata": {},
   "source": [
    "## Nombre de crime effectué par année"
   ]
  },
  {
   "cell_type": "code",
   "execution_count": 10,
   "id": "536b16ac",
   "metadata": {},
   "outputs": [
    {
     "name": "stdout",
     "output_type": "stream",
     "text": [
      "2015    35609\n",
      "2016    33760\n",
      "2017    32664\n",
      "2018    28387\n",
      "2019    27155\n",
      "2020    25460\n",
      "2021     5571\n",
      "Name: YEAR, dtype: int64\n"
     ]
    },
    {
     "data": {
      "image/png": "[encoded data removed]",
      "text/plain": [
       "<Figure size 432x288 with 1 Axes>"
      ]
     },
     "metadata": {
      "needs_background": "light"
     },
     "output_type": "display_data"
    }
   ],
   "source": [
    "Crime_par_année=df[\"YEAR\"].value_counts()\n",
    "print(Crime_par_année)\n",
    "df.groupby([\"YEAR\"]).size().plot(kind='bar')\n",
    "plt.show()"
   ]
  },
  {
   "cell_type": "code",
   "execution_count": 11,
   "id": "2305dab6",
   "metadata": {},
   "outputs": [
    {
     "name": "stdout",
     "output_type": "stream",
     "text": [
      "La moyenne de crime par année est de 26943.71 par année\n",
      "L'écart-type de ce nombre est de 26943.71 crimes\n"
     ]
    }
   ],
   "source": [
    "moyenne_par_annee=Crime_par_année.mean()\n",
    "ecart_type_par_annee=Crime_par_année.mean()\n",
    "moyenne_par_annee=moyenne_par_annee.round(2)\n",
    "ecart_type_par_annee=ecart_type_par_annee.round(2)\n",
    "print(\"La moyenne de crime par année est de \" + str(moyenne_par_annee) + \" par année\")\n",
    "\n",
    "print(\"L'écart-type de ce nombre est de \" + str(ecart_type_par_annee) + \" crimes\")"
   ]
  },
  {
   "cell_type": "markdown",
   "id": "36b1e45f",
   "metadata": {},
   "source": [
    "## Nombre de crime par année par catégorie de crime\n"
   ]
  },
  {
   "cell_type": "code",
   "execution_count": 12,
   "id": "e693df58",
   "metadata": {},
   "outputs": [
    {
     "data": {
      "text/plain": [
       "YEAR  CATEGORIE                       \n",
       "2015  Infractions entrainant la mort         27\n",
       "      Introduction                         9796\n",
       "      Mefait                               8356\n",
       "      Vol dans / sur vehicule a moteur    10915\n",
       "      Vol de vehicule a moteur             4418\n",
       "      Vols qualifies                       2097\n",
       "2016  Infractions entrainant la mort         23\n",
       "      Introduction                         9797\n",
       "      Mefait                               7405\n",
       "      Vol dans / sur vehicule a moteur    10209\n",
       "      Vol de vehicule a moteur             4352\n",
       "      Vols qualifies                       1974\n",
       "2017  Infractions entrainant la mort         26\n",
       "      Introduction                         9197\n",
       "      Mefait                               7302\n",
       "      Vol dans / sur vehicule a moteur     9556\n",
       "      Vol de vehicule a moteur             4732\n",
       "      Vols qualifies                       1851\n",
       "2018  Infractions entrainant la mort         31\n",
       "      Introduction                         7429\n",
       "      Mefait                               6432\n",
       "      Vol dans / sur vehicule a moteur     8666\n",
       "      Vol de vehicule a moteur             4237\n",
       "      Vols qualifies                       1592\n",
       "2019  Infractions entrainant la mort         24\n",
       "      Introduction                         6987\n",
       "      Mefait                               6171\n",
       "      Vol dans / sur vehicule a moteur     8018\n",
       "      Vol de vehicule a moteur             4170\n",
       "      Vols qualifies                       1785\n",
       "2020  Infractions entrainant la mort         26\n",
       "      Introduction                         6057\n",
       "      Mefait                               5869\n",
       "      Vol dans / sur vehicule a moteur     7403\n",
       "      Vol de vehicule a moteur             4706\n",
       "      Vols qualifies                       1399\n",
       "2021  Infractions entrainant la mort          7\n",
       "      Introduction                         1147\n",
       "      Mefait                               1260\n",
       "      Vol dans / sur vehicule a moteur     1679\n",
       "      Vol de vehicule a moteur             1168\n",
       "      Vols qualifies                        310\n",
       "dtype: int64"
      ]
     },
     "execution_count": 12,
     "metadata": {},
     "output_type": "execute_result"
    }
   ],
   "source": [
    "df.groupby(['YEAR', 'CATEGORIE']).size()"
   ]
  },
  {
   "cell_type": "markdown",
   "id": "073f9980",
   "metadata": {},
   "source": [
    "## Catégorie des crimes et leur nombre par année sous forme graphique\n"
   ]
  },
  {
   "cell_type": "code",
   "execution_count": 8,
   "id": "d84663d6",
   "metadata": {},
   "outputs": [
    {
     "data": {
      "image/png": "[encoded data removed]",
      "text/plain": [
       "<Figure size 432x288 with 1 Axes>"
      ]
     },
     "metadata": {
      "needs_background": "light"
     },
     "output_type": "display_data"
    }
   ],
   "source": [
    "df.groupby(['CATEGORIE','YEAR']).size().unstack().plot(kind='bar',stacked=True)\n",
    "plt.show()"
   ]
  },
  {
   "cell_type": "markdown",
   "id": "892f22b1",
   "metadata": {},
   "source": [
    "## Regarder la corrélation entre les crimes et le temps de la journée (nuit ou jour)"
   ]
  },
  {
   "cell_type": "code",
   "execution_count": 13,
   "id": "6da36af0",
   "metadata": {},
   "outputs": [
    {
     "name": "stdout",
     "output_type": "stream",
     "text": [
      "CATEGORIE                         QUART\n",
      "Infractions entrainant la mort    jour        38\n",
      "                                  nuit        61\n",
      "                                  soir        65\n",
      "Introduction                      jour     22281\n",
      "                                  nuit      9191\n",
      "                                  soir     18938\n",
      "Mefait                            jour     24167\n",
      "                                  nuit      5344\n",
      "                                  soir     13284\n",
      "Vol dans / sur vehicule a moteur  jour     31048\n",
      "                                  nuit      5452\n",
      "                                  soir     19946\n",
      "Vol de vehicule a moteur          jour     14103\n",
      "                                  nuit      6404\n",
      "                                  soir      7276\n",
      "Vols qualifies                    jour      3543\n",
      "                                  nuit      2016\n",
      "                                  soir      5449\n",
      "dtype: int64\n"
     ]
    }
   ],
   "source": [
    "print(df.groupby(['CATEGORIE','QUART']).size())"
   ]
  },
  {
   "cell_type": "code",
   "execution_count": null,
   "id": "ca42d7a7",
   "metadata": {},
   "outputs": [],
   "source": []
  },
  {
   "cell_type": "code",
   "execution_count": null,
   "id": "450a7ff7",
   "metadata": {},
   "outputs": [],
   "source": []
  }
 ],
 "metadata": {
  "kernelspec": {
   "display_name": "Python 3",
   "language": "python",
   "name": "python3"
  },
  "language_info": {
   "codemirror_mode": {
    "name": "ipython",
    "version": 3
   },
   "file_extension": ".py",
   "mimetype": "text/x-python",
   "name": "python",
   "nbconvert_exporter": "python",
   "pygments_lexer": "ipython3",
   "version": "3.8.7"
  }
 },
 "nbformat": 4,
 "nbformat_minor": 5
}
